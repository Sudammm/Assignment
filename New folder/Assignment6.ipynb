{
 "cells": [
  {
   "cell_type": "code",
   "execution_count": 10,
   "id": "5528980e-8aa5-42a0-b64f-10667dd850c6",
   "metadata": {},
   "outputs": [],
   "source": [
    "import pandas as pd\n",
    "import numpy as np\n",
    "import matplotlib.pyplot as plt\n",
    "from sklearn.datasets import load_iris\n"
   ]
  },
  {
   "cell_type": "code",
   "execution_count": 13,
   "id": "4c37719b-1761-4ea9-a961-484d3f7e70de",
   "metadata": {},
   "outputs": [],
   "source": [
    "iris=load_iris()\n"
   ]
  },
  {
   "cell_type": "code",
   "execution_count": 14,
   "id": "786d949c-4a88-4fb2-bd9b-495844088f6e",
   "metadata": {},
   "outputs": [
    {
     "data": {
      "text/html": [
       "<div>\n",
       "<style scoped>\n",
       "    .dataframe tbody tr th:only-of-type {\n",
       "        vertical-align: middle;\n",
       "    }\n",
       "\n",
       "    .dataframe tbody tr th {\n",
       "        vertical-align: top;\n",
       "    }\n",
       "\n",
       "    .dataframe thead th {\n",
       "        text-align: right;\n",
       "    }\n",
       "</style>\n",
       "<table border=\"1\" class=\"dataframe\">\n",
       "  <thead>\n",
       "    <tr style=\"text-align: right;\">\n",
       "      <th></th>\n",
       "      <th>sepal length (cm)</th>\n",
       "      <th>sepal width (cm)</th>\n",
       "      <th>petal length (cm)</th>\n",
       "      <th>petal width (cm)</th>\n",
       "    </tr>\n",
       "  </thead>\n",
       "  <tbody>\n",
       "    <tr>\n",
       "      <th>0</th>\n",
       "      <td>5.1</td>\n",
       "      <td>3.5</td>\n",
       "      <td>1.4</td>\n",
       "      <td>0.2</td>\n",
       "    </tr>\n",
       "    <tr>\n",
       "      <th>1</th>\n",
       "      <td>4.9</td>\n",
       "      <td>3.0</td>\n",
       "      <td>1.4</td>\n",
       "      <td>0.2</td>\n",
       "    </tr>\n",
       "    <tr>\n",
       "      <th>2</th>\n",
       "      <td>4.7</td>\n",
       "      <td>3.2</td>\n",
       "      <td>1.3</td>\n",
       "      <td>0.2</td>\n",
       "    </tr>\n",
       "    <tr>\n",
       "      <th>3</th>\n",
       "      <td>4.6</td>\n",
       "      <td>3.1</td>\n",
       "      <td>1.5</td>\n",
       "      <td>0.2</td>\n",
       "    </tr>\n",
       "    <tr>\n",
       "      <th>4</th>\n",
       "      <td>5.0</td>\n",
       "      <td>3.6</td>\n",
       "      <td>1.4</td>\n",
       "      <td>0.2</td>\n",
       "    </tr>\n",
       "    <tr>\n",
       "      <th>...</th>\n",
       "      <td>...</td>\n",
       "      <td>...</td>\n",
       "      <td>...</td>\n",
       "      <td>...</td>\n",
       "    </tr>\n",
       "    <tr>\n",
       "      <th>145</th>\n",
       "      <td>6.7</td>\n",
       "      <td>3.0</td>\n",
       "      <td>5.2</td>\n",
       "      <td>2.3</td>\n",
       "    </tr>\n",
       "    <tr>\n",
       "      <th>146</th>\n",
       "      <td>6.3</td>\n",
       "      <td>2.5</td>\n",
       "      <td>5.0</td>\n",
       "      <td>1.9</td>\n",
       "    </tr>\n",
       "    <tr>\n",
       "      <th>147</th>\n",
       "      <td>6.5</td>\n",
       "      <td>3.0</td>\n",
       "      <td>5.2</td>\n",
       "      <td>2.0</td>\n",
       "    </tr>\n",
       "    <tr>\n",
       "      <th>148</th>\n",
       "      <td>6.2</td>\n",
       "      <td>3.4</td>\n",
       "      <td>5.4</td>\n",
       "      <td>2.3</td>\n",
       "    </tr>\n",
       "    <tr>\n",
       "      <th>149</th>\n",
       "      <td>5.9</td>\n",
       "      <td>3.0</td>\n",
       "      <td>5.1</td>\n",
       "      <td>1.8</td>\n",
       "    </tr>\n",
       "  </tbody>\n",
       "</table>\n",
       "<p>150 rows × 4 columns</p>\n",
       "</div>"
      ],
      "text/plain": [
       "     sepal length (cm)  sepal width (cm)  petal length (cm)  petal width (cm)\n",
       "0                  5.1               3.5                1.4               0.2\n",
       "1                  4.9               3.0                1.4               0.2\n",
       "2                  4.7               3.2                1.3               0.2\n",
       "3                  4.6               3.1                1.5               0.2\n",
       "4                  5.0               3.6                1.4               0.2\n",
       "..                 ...               ...                ...               ...\n",
       "145                6.7               3.0                5.2               2.3\n",
       "146                6.3               2.5                5.0               1.9\n",
       "147                6.5               3.0                5.2               2.0\n",
       "148                6.2               3.4                5.4               2.3\n",
       "149                5.9               3.0                5.1               1.8\n",
       "\n",
       "[150 rows x 4 columns]"
      ]
     },
     "execution_count": 14,
     "metadata": {},
     "output_type": "execute_result"
    }
   ],
   "source": [
    "df=pd.DataFrame(data=iris.data,columns=iris.feature_names)\n",
    "df"
   ]
  },
  {
   "cell_type": "code",
   "execution_count": 15,
   "id": "6f12a055-db83-4729-aa08-d2cf9c32edec",
   "metadata": {},
   "outputs": [
    {
     "data": {
      "text/html": [
       "<div>\n",
       "<style scoped>\n",
       "    .dataframe tbody tr th:only-of-type {\n",
       "        vertical-align: middle;\n",
       "    }\n",
       "\n",
       "    .dataframe tbody tr th {\n",
       "        vertical-align: top;\n",
       "    }\n",
       "\n",
       "    .dataframe thead th {\n",
       "        text-align: right;\n",
       "    }\n",
       "</style>\n",
       "<table border=\"1\" class=\"dataframe\">\n",
       "  <thead>\n",
       "    <tr style=\"text-align: right;\">\n",
       "      <th></th>\n",
       "      <th>petal width (cm)</th>\n",
       "      <th>petal length (cm)</th>\n",
       "    </tr>\n",
       "  </thead>\n",
       "  <tbody>\n",
       "    <tr>\n",
       "      <th>0</th>\n",
       "      <td>0.2</td>\n",
       "      <td>1.4</td>\n",
       "    </tr>\n",
       "    <tr>\n",
       "      <th>1</th>\n",
       "      <td>0.2</td>\n",
       "      <td>1.4</td>\n",
       "    </tr>\n",
       "    <tr>\n",
       "      <th>2</th>\n",
       "      <td>0.2</td>\n",
       "      <td>1.3</td>\n",
       "    </tr>\n",
       "    <tr>\n",
       "      <th>3</th>\n",
       "      <td>0.2</td>\n",
       "      <td>1.5</td>\n",
       "    </tr>\n",
       "    <tr>\n",
       "      <th>4</th>\n",
       "      <td>0.2</td>\n",
       "      <td>1.4</td>\n",
       "    </tr>\n",
       "    <tr>\n",
       "      <th>...</th>\n",
       "      <td>...</td>\n",
       "      <td>...</td>\n",
       "    </tr>\n",
       "    <tr>\n",
       "      <th>145</th>\n",
       "      <td>2.3</td>\n",
       "      <td>5.2</td>\n",
       "    </tr>\n",
       "    <tr>\n",
       "      <th>146</th>\n",
       "      <td>1.9</td>\n",
       "      <td>5.0</td>\n",
       "    </tr>\n",
       "    <tr>\n",
       "      <th>147</th>\n",
       "      <td>2.0</td>\n",
       "      <td>5.2</td>\n",
       "    </tr>\n",
       "    <tr>\n",
       "      <th>148</th>\n",
       "      <td>2.3</td>\n",
       "      <td>5.4</td>\n",
       "    </tr>\n",
       "    <tr>\n",
       "      <th>149</th>\n",
       "      <td>1.8</td>\n",
       "      <td>5.1</td>\n",
       "    </tr>\n",
       "  </tbody>\n",
       "</table>\n",
       "<p>150 rows × 2 columns</p>\n",
       "</div>"
      ],
      "text/plain": [
       "     petal width (cm)  petal length (cm)\n",
       "0                 0.2                1.4\n",
       "1                 0.2                1.4\n",
       "2                 0.2                1.3\n",
       "3                 0.2                1.5\n",
       "4                 0.2                1.4\n",
       "..                ...                ...\n",
       "145               2.3                5.2\n",
       "146               1.9                5.0\n",
       "147               2.0                5.2\n",
       "148               2.3                5.4\n",
       "149               1.8                5.1\n",
       "\n",
       "[150 rows x 2 columns]"
      ]
     },
     "execution_count": 15,
     "metadata": {},
     "output_type": "execute_result"
    }
   ],
   "source": [
    "new_df=df[['petal width (cm)','petal length (cm)']] # using only two columns as by question\n",
    "new_df"
   ]
  },
  {
   "cell_type": "code",
   "execution_count": 16,
   "id": "53fad050-6bed-40e9-9451-7cfca3ed26cb",
   "metadata": {},
   "outputs": [
    {
     "data": {
      "text/plain": [
       "<matplotlib.collections.PathCollection at 0x25cfd77ea10>"
      ]
     },
     "execution_count": 16,
     "metadata": {},
     "output_type": "execute_result"
    },
    {
     "data": {
      "image/png": "[encoded data removed]",
      "text/plain": [
       "<Figure size 640x480 with 1 Axes>"
      ]
     },
     "metadata": {},
     "output_type": "display_data"
    }
   ],
   "source": [
    "plt.scatter(new_df['petal length (cm)'],new_df['petal width (cm)'])\n"
   ]
  },
  {
   "cell_type": "code",
   "execution_count": 17,
   "id": "14c57169-a21e-45b4-8c69-7a6f7245d894",
   "metadata": {},
   "outputs": [
    {
     "data": {
      "text/plain": [
       "0      1.4\n",
       "1      1.4\n",
       "2      1.3\n",
       "3      1.5\n",
       "4      1.4\n",
       "      ... \n",
       "145    5.2\n",
       "146    5.0\n",
       "147    5.2\n",
       "148    5.4\n",
       "149    5.1\n",
       "Name: petal length (cm), Length: 150, dtype: float64"
      ]
     },
     "execution_count": 17,
     "metadata": {},
     "output_type": "execute_result"
    }
   ],
   "source": [
    "new_df.iloc[:,1]"
   ]
  },
  {
   "cell_type": "code",
   "execution_count": 18,
   "id": "de42d6ed-fa0c-47cd-98e9-72094b0a29c2",
   "metadata": {},
   "outputs": [],
   "source": [
    "from sklearn.cluster import KMeans\n",
    "km=KMeans(n_clusters=3)\n"
   ]
  },
  {
   "cell_type": "code",
   "execution_count": 19,
   "id": "4e048abb-9acc-4ba2-b7cb-813fa5ac0364",
   "metadata": {},
   "outputs": [
    {
     "name": "stderr",
     "output_type": "stream",
     "text": [
      "C:\\Users\\user\\anaconda3\\Lib\\site-packages\\sklearn\\cluster\\_kmeans.py:870: FutureWarning: The default value of `n_init` will change from 10 to 'auto' in 1.4. Set the value of `n_init` explicitly to suppress the warning\n",
      "  warnings.warn(\n",
      "C:\\Users\\user\\anaconda3\\Lib\\site-packages\\sklearn\\cluster\\_kmeans.py:1382: UserWarning: KMeans is known to have a memory leak on Windows with MKL, when there are less chunks than available threads. You can avoid it by setting the environment variable OMP_NUM_THREADS=1.\n",
      "  warnings.warn(\n"
     ]
    },
    {
     "data": {
      "text/plain": [
       "array([0, 0, 0, 0, 0, 0, 0, 0, 0, 0, 0, 0, 0, 0, 0, 0, 0, 0, 0, 0, 0, 0,\n",
       "       0, 0, 0, 0, 0, 0, 0, 0, 0, 0, 0, 0, 0, 0, 0, 0, 0, 0, 0, 0, 0, 0,\n",
       "       0, 0, 0, 0, 0, 0, 2, 2, 2, 2, 2, 2, 2, 2, 2, 2, 2, 2, 2, 2, 2, 2,\n",
       "       2, 2, 2, 2, 2, 2, 2, 2, 2, 2, 2, 1, 2, 2, 2, 2, 2, 1, 2, 2, 2, 2,\n",
       "       2, 2, 2, 2, 2, 2, 2, 2, 2, 2, 2, 2, 1, 1, 1, 1, 1, 1, 2, 1, 1, 1,\n",
       "       1, 1, 1, 1, 1, 1, 1, 1, 1, 2, 1, 1, 1, 1, 1, 1, 2, 1, 1, 1, 1, 1,\n",
       "       1, 1, 1, 1, 1, 1, 2, 1, 1, 1, 1, 1, 1, 1, 1, 1, 1, 1])"
      ]
     },
     "execution_count": 19,
     "metadata": {},
     "output_type": "execute_result"
    }
   ],
   "source": [
    "y_pred=km.fit_predict(new_df[['petal width (cm)','petal length (cm)']])\n",
    "y_pred"
   ]
  },
  {
   "cell_type": "code",
   "execution_count": 20,
   "id": "8eb4e21a-75fb-4060-8a8b-c46a9f20b6ad",
   "metadata": {},
   "outputs": [
    {
     "data": {
      "text/plain": [
       "-31.371358974358976"
      ]
     },
     "execution_count": 20,
     "metadata": {},
     "output_type": "execute_result"
    }
   ],
   "source": [
    "km.score(new_df[['petal width (cm)','petal length (cm)']])"
   ]
  },
  {
   "cell_type": "code",
   "execution_count": 21,
   "id": "b3d2f615-7367-44a6-a01f-0860319061b4",
   "metadata": {},
   "outputs": [
    {
     "data": {
      "text/plain": [
       "array([[0.04166667, 0.06779661],\n",
       "       [0.04166667, 0.06779661],\n",
       "       [0.04166667, 0.05084746],\n",
       "       [0.04166667, 0.08474576],\n",
       "       [0.04166667, 0.06779661],\n",
       "       [0.125     , 0.11864407],\n",
       "       [0.08333333, 0.06779661],\n",
       "       [0.04166667, 0.08474576],\n",
       "       [0.04166667, 0.06779661],\n",
       "       [0.        , 0.08474576],\n",
       "       [0.04166667, 0.08474576],\n",
       "       [0.04166667, 0.10169492],\n",
       "       [0.        , 0.06779661],\n",
       "       [0.        , 0.01694915],\n",
       "       [0.04166667, 0.03389831],\n",
       "       [0.125     , 0.08474576],\n",
       "       [0.125     , 0.05084746],\n",
       "       [0.08333333, 0.06779661],\n",
       "       [0.08333333, 0.11864407],\n",
       "       [0.08333333, 0.08474576],\n",
       "       [0.04166667, 0.11864407],\n",
       "       [0.125     , 0.08474576],\n",
       "       [0.04166667, 0.        ],\n",
       "       [0.16666667, 0.11864407],\n",
       "       [0.04166667, 0.15254237],\n",
       "       [0.04166667, 0.10169492],\n",
       "       [0.125     , 0.10169492],\n",
       "       [0.04166667, 0.08474576],\n",
       "       [0.04166667, 0.06779661],\n",
       "       [0.04166667, 0.10169492],\n",
       "       [0.04166667, 0.10169492],\n",
       "       [0.125     , 0.08474576],\n",
       "       [0.        , 0.08474576],\n",
       "       [0.04166667, 0.06779661],\n",
       "       [0.04166667, 0.08474576],\n",
       "       [0.04166667, 0.03389831],\n",
       "       [0.04166667, 0.05084746],\n",
       "       [0.        , 0.06779661],\n",
       "       [0.04166667, 0.05084746],\n",
       "       [0.04166667, 0.08474576],\n",
       "       [0.08333333, 0.05084746],\n",
       "       [0.08333333, 0.05084746],\n",
       "       [0.04166667, 0.05084746],\n",
       "       [0.20833333, 0.10169492],\n",
       "       [0.125     , 0.15254237],\n",
       "       [0.08333333, 0.06779661],\n",
       "       [0.04166667, 0.10169492],\n",
       "       [0.04166667, 0.06779661],\n",
       "       [0.04166667, 0.08474576],\n",
       "       [0.04166667, 0.06779661],\n",
       "       [0.54166667, 0.62711864],\n",
       "       [0.58333333, 0.59322034],\n",
       "       [0.58333333, 0.66101695],\n",
       "       [0.5       , 0.50847458],\n",
       "       [0.58333333, 0.61016949],\n",
       "       [0.5       , 0.59322034],\n",
       "       [0.625     , 0.62711864],\n",
       "       [0.375     , 0.38983051],\n",
       "       [0.5       , 0.61016949],\n",
       "       [0.54166667, 0.49152542],\n",
       "       [0.375     , 0.42372881],\n",
       "       [0.58333333, 0.54237288],\n",
       "       [0.375     , 0.50847458],\n",
       "       [0.54166667, 0.62711864],\n",
       "       [0.5       , 0.44067797],\n",
       "       [0.54166667, 0.57627119],\n",
       "       [0.58333333, 0.59322034],\n",
       "       [0.375     , 0.52542373],\n",
       "       [0.58333333, 0.59322034],\n",
       "       [0.41666667, 0.49152542],\n",
       "       [0.70833333, 0.6440678 ],\n",
       "       [0.5       , 0.50847458],\n",
       "       [0.58333333, 0.66101695],\n",
       "       [0.45833333, 0.62711864],\n",
       "       [0.5       , 0.55932203],\n",
       "       [0.54166667, 0.57627119],\n",
       "       [0.54166667, 0.6440678 ],\n",
       "       [0.66666667, 0.6779661 ],\n",
       "       [0.58333333, 0.59322034],\n",
       "       [0.375     , 0.42372881],\n",
       "       [0.41666667, 0.47457627],\n",
       "       [0.375     , 0.45762712],\n",
       "       [0.45833333, 0.49152542],\n",
       "       [0.625     , 0.69491525],\n",
       "       [0.58333333, 0.59322034],\n",
       "       [0.625     , 0.59322034],\n",
       "       [0.58333333, 0.62711864],\n",
       "       [0.5       , 0.57627119],\n",
       "       [0.5       , 0.52542373],\n",
       "       [0.5       , 0.50847458],\n",
       "       [0.45833333, 0.57627119],\n",
       "       [0.54166667, 0.61016949],\n",
       "       [0.45833333, 0.50847458],\n",
       "       [0.375     , 0.38983051],\n",
       "       [0.5       , 0.54237288],\n",
       "       [0.45833333, 0.54237288],\n",
       "       [0.5       , 0.54237288],\n",
       "       [0.5       , 0.55932203],\n",
       "       [0.41666667, 0.33898305],\n",
       "       [0.5       , 0.52542373],\n",
       "       [1.        , 0.84745763],\n",
       "       [0.75      , 0.69491525],\n",
       "       [0.83333333, 0.83050847],\n",
       "       [0.70833333, 0.77966102],\n",
       "       [0.875     , 0.81355932],\n",
       "       [0.83333333, 0.94915254],\n",
       "       [0.66666667, 0.59322034],\n",
       "       [0.70833333, 0.89830508],\n",
       "       [0.70833333, 0.81355932],\n",
       "       [1.        , 0.86440678],\n",
       "       [0.79166667, 0.69491525],\n",
       "       [0.75      , 0.72881356],\n",
       "       [0.83333333, 0.76271186],\n",
       "       [0.79166667, 0.6779661 ],\n",
       "       [0.95833333, 0.69491525],\n",
       "       [0.91666667, 0.72881356],\n",
       "       [0.70833333, 0.76271186],\n",
       "       [0.875     , 0.96610169],\n",
       "       [0.91666667, 1.        ],\n",
       "       [0.58333333, 0.6779661 ],\n",
       "       [0.91666667, 0.79661017],\n",
       "       [0.79166667, 0.66101695],\n",
       "       [0.79166667, 0.96610169],\n",
       "       [0.70833333, 0.66101695],\n",
       "       [0.83333333, 0.79661017],\n",
       "       [0.70833333, 0.84745763],\n",
       "       [0.70833333, 0.6440678 ],\n",
       "       [0.70833333, 0.66101695],\n",
       "       [0.83333333, 0.77966102],\n",
       "       [0.625     , 0.81355932],\n",
       "       [0.75      , 0.86440678],\n",
       "       [0.79166667, 0.91525424],\n",
       "       [0.875     , 0.77966102],\n",
       "       [0.58333333, 0.69491525],\n",
       "       [0.54166667, 0.77966102],\n",
       "       [0.91666667, 0.86440678],\n",
       "       [0.95833333, 0.77966102],\n",
       "       [0.70833333, 0.76271186],\n",
       "       [0.70833333, 0.6440678 ],\n",
       "       [0.83333333, 0.74576271],\n",
       "       [0.95833333, 0.77966102],\n",
       "       [0.91666667, 0.69491525],\n",
       "       [0.75      , 0.69491525],\n",
       "       [0.91666667, 0.83050847],\n",
       "       [1.        , 0.79661017],\n",
       "       [0.91666667, 0.71186441],\n",
       "       [0.75      , 0.6779661 ],\n",
       "       [0.79166667, 0.71186441],\n",
       "       [0.91666667, 0.74576271],\n",
       "       [0.70833333, 0.69491525]])"
      ]
     },
     "execution_count": 21,
     "metadata": {},
     "output_type": "execute_result"
    }
   ],
   "source": [
    "from sklearn.preprocessing import MinMaxScaler\n",
    "scaler=MinMaxScaler()\n",
    "scale_df=scaler.fit_transform(new_df)\n",
    "scale_df"
   ]
  },
  {
   "cell_type": "code",
   "execution_count": 22,
   "id": "b29333e1-100f-4a04-bb86-292b8a85289a",
   "metadata": {},
   "outputs": [
    {
     "data": {
      "text/html": [
       "<div>\n",
       "<style scoped>\n",
       "    .dataframe tbody tr th:only-of-type {\n",
       "        vertical-align: middle;\n",
       "    }\n",
       "\n",
       "    .dataframe tbody tr th {\n",
       "        vertical-align: top;\n",
       "    }\n",
       "\n",
       "    .dataframe thead th {\n",
       "        text-align: right;\n",
       "    }\n",
       "</style>\n",
       "<table border=\"1\" class=\"dataframe\">\n",
       "  <thead>\n",
       "    <tr style=\"text-align: right;\">\n",
       "      <th></th>\n",
       "      <th>petal length (cm)</th>\n",
       "      <th>petal width (cm)</th>\n",
       "    </tr>\n",
       "  </thead>\n",
       "  <tbody>\n",
       "    <tr>\n",
       "      <th>0</th>\n",
       "      <td>0.041667</td>\n",
       "      <td>0.067797</td>\n",
       "    </tr>\n",
       "    <tr>\n",
       "      <th>1</th>\n",
       "      <td>0.041667</td>\n",
       "      <td>0.067797</td>\n",
       "    </tr>\n",
       "    <tr>\n",
       "      <th>2</th>\n",
       "      <td>0.041667</td>\n",
       "      <td>0.050847</td>\n",
       "    </tr>\n",
       "    <tr>\n",
       "      <th>3</th>\n",
       "      <td>0.041667</td>\n",
       "      <td>0.084746</td>\n",
       "    </tr>\n",
       "    <tr>\n",
       "      <th>4</th>\n",
       "      <td>0.041667</td>\n",
       "      <td>0.067797</td>\n",
       "    </tr>\n",
       "    <tr>\n",
       "      <th>...</th>\n",
       "      <td>...</td>\n",
       "      <td>...</td>\n",
       "    </tr>\n",
       "    <tr>\n",
       "      <th>145</th>\n",
       "      <td>0.916667</td>\n",
       "      <td>0.711864</td>\n",
       "    </tr>\n",
       "    <tr>\n",
       "      <th>146</th>\n",
       "      <td>0.750000</td>\n",
       "      <td>0.677966</td>\n",
       "    </tr>\n",
       "    <tr>\n",
       "      <th>147</th>\n",
       "      <td>0.791667</td>\n",
       "      <td>0.711864</td>\n",
       "    </tr>\n",
       "    <tr>\n",
       "      <th>148</th>\n",
       "      <td>0.916667</td>\n",
       "      <td>0.745763</td>\n",
       "    </tr>\n",
       "    <tr>\n",
       "      <th>149</th>\n",
       "      <td>0.708333</td>\n",
       "      <td>0.694915</td>\n",
       "    </tr>\n",
       "  </tbody>\n",
       "</table>\n",
       "<p>150 rows × 2 columns</p>\n",
       "</div>"
      ],
      "text/plain": [
       "     petal length (cm)  petal width (cm)\n",
       "0             0.041667          0.067797\n",
       "1             0.041667          0.067797\n",
       "2             0.041667          0.050847\n",
       "3             0.041667          0.084746\n",
       "4             0.041667          0.067797\n",
       "..                 ...               ...\n",
       "145           0.916667          0.711864\n",
       "146           0.750000          0.677966\n",
       "147           0.791667          0.711864\n",
       "148           0.916667          0.745763\n",
       "149           0.708333          0.694915\n",
       "\n",
       "[150 rows x 2 columns]"
      ]
     },
     "execution_count": 22,
     "metadata": {},
     "output_type": "execute_result"
    }
   ],
   "source": [
    "scale_df=pd.DataFrame(data=scale_df,columns=['petal length (cm)', 'petal width (cm)'])\n",
    "scale_df"
   ]
  },
  {
   "cell_type": "code",
   "execution_count": 23,
   "id": "4e333eee-decf-4414-b1f1-ae54eddaec4c",
   "metadata": {},
   "outputs": [
    {
     "data": {
      "text/plain": [
       "Index(['petal length (cm)', 'petal width (cm)'], dtype='object')"
      ]
     },
     "execution_count": 23,
     "metadata": {},
     "output_type": "execute_result"
    }
   ],
   "source": [
    "scale_df.columns"
   ]
  },
  {
   "cell_type": "code",
   "execution_count": 24,
   "id": "6f6288da-6c5a-4063-9ca7-0969bab24661",
   "metadata": {},
   "outputs": [
    {
     "data": {
      "text/plain": [
       "<matplotlib.collections.PathCollection at 0x25cfd70c390>"
      ]
     },
     "execution_count": 24,
     "metadata": {},
     "output_type": "execute_result"
    },
    {
     "data": {
      "image/png": "[encoded data removed]",
      "text/plain": [
       "<Figure size 640x480 with 1 Axes>"
      ]
     },
     "metadata": {},
     "output_type": "display_data"
    }
   ],
   "source": [
    "plt.scatter(scale_df['petal length (cm)'],scale_df['petal width (cm)'])"
   ]
  },
  {
   "cell_type": "code",
   "execution_count": 25,
   "id": "b6a6679f-120c-4da6-860f-af5961d7096e",
   "metadata": {},
   "outputs": [
    {
     "name": "stderr",
     "output_type": "stream",
     "text": [
      "C:\\Users\\user\\anaconda3\\Lib\\site-packages\\sklearn\\cluster\\_kmeans.py:1382: UserWarning: KMeans is known to have a memory leak on Windows with MKL, when there are less chunks than available threads. You can avoid it by setting the environment variable OMP_NUM_THREADS=1.\n",
      "  warnings.warn(\n",
      "C:\\Users\\user\\anaconda3\\Lib\\site-packages\\sklearn\\cluster\\_kmeans.py:1382: UserWarning: KMeans is known to have a memory leak on Windows with MKL, when there are less chunks than available threads. You can avoid it by setting the environment variable OMP_NUM_THREADS=1.\n",
      "  warnings.warn(\n",
      "C:\\Users\\user\\anaconda3\\Lib\\site-packages\\sklearn\\cluster\\_kmeans.py:1382: UserWarning: KMeans is known to have a memory leak on Windows with MKL, when there are less chunks than available threads. You can avoid it by setting the environment variable OMP_NUM_THREADS=1.\n",
      "  warnings.warn(\n",
      "C:\\Users\\user\\anaconda3\\Lib\\site-packages\\sklearn\\cluster\\_kmeans.py:1382: UserWarning: KMeans is known to have a memory leak on Windows with MKL, when there are less chunks than available threads. You can avoid it by setting the environment variable OMP_NUM_THREADS=1.\n",
      "  warnings.warn(\n",
      "C:\\Users\\user\\anaconda3\\Lib\\site-packages\\sklearn\\cluster\\_kmeans.py:1382: UserWarning: KMeans is known to have a memory leak on Windows with MKL, when there are less chunks than available threads. You can avoid it by setting the environment variable OMP_NUM_THREADS=1.\n",
      "  warnings.warn(\n",
      "C:\\Users\\user\\anaconda3\\Lib\\site-packages\\sklearn\\cluster\\_kmeans.py:1382: UserWarning: KMeans is known to have a memory leak on Windows with MKL, when there are less chunks than available threads. You can avoid it by setting the environment variable OMP_NUM_THREADS=1.\n",
      "  warnings.warn(\n",
      "C:\\Users\\user\\anaconda3\\Lib\\site-packages\\sklearn\\cluster\\_kmeans.py:1382: UserWarning: KMeans is known to have a memory leak on Windows with MKL, when there are less chunks than available threads. You can avoid it by setting the environment variable OMP_NUM_THREADS=1.\n",
      "  warnings.warn(\n",
      "C:\\Users\\user\\anaconda3\\Lib\\site-packages\\sklearn\\cluster\\_kmeans.py:1382: UserWarning: KMeans is known to have a memory leak on Windows with MKL, when there are less chunks than available threads. You can avoid it by setting the environment variable OMP_NUM_THREADS=1.\n",
      "  warnings.warn(\n",
      "C:\\Users\\user\\anaconda3\\Lib\\site-packages\\sklearn\\cluster\\_kmeans.py:1382: UserWarning: KMeans is known to have a memory leak on Windows with MKL, when there are less chunks than available threads. You can avoid it by setting the environment variable OMP_NUM_THREADS=1.\n",
      "  warnings.warn(\n"
     ]
    }
   ],
   "source": [
    "sse=[]\n",
    "k_rng=range(1,10)\n",
    "for k in k_rng:\n",
    "  km=KMeans(n_clusters=k,n_init='auto')\n",
    "  km.fit(scale_df[['petal length (cm)','petal width (cm)']])\n",
    "  sse.append(km.inertia_)"
   ]
  },
  {
   "cell_type": "code",
   "execution_count": 26,
   "id": "f2b89ccb-1ddf-495e-abc3-592cdcf84bbb",
   "metadata": {},
   "outputs": [
    {
     "data": {
      "text/plain": [
       "[<matplotlib.lines.Line2D at 0x25cfe168b50>]"
      ]
     },
     "execution_count": 26,
     "metadata": {},
     "output_type": "execute_result"
    },
    {
     "data": {
      "image/png": "[encoded data removed]",
      "text/plain": [
       "<Figure size 640x480 with 1 Axes>"
      ]
     },
     "metadata": {},
     "output_type": "display_data"
    }
   ],
   "source": [
    "plt.xlabel(\"K\")\n",
    "plt.ylabel(\"Sum of squared error\")\n",
    "plt.plot(k_rng, sse)"
   ]
  },
  {
   "cell_type": "code",
   "execution_count": 28,
   "id": "ae1be90e-a705-470a-b6a9-2eabbe72e246",
   "metadata": {},
   "outputs": [
    {
     "name": "stderr",
     "output_type": "stream",
     "text": [
      "C:\\Users\\user\\anaconda3\\Lib\\site-packages\\sklearn\\cluster\\_kmeans.py:870: FutureWarning: The default value of `n_init` will change from 10 to 'auto' in 1.4. Set the value of `n_init` explicitly to suppress the warning\n",
      "  warnings.warn(\n",
      "C:\\Users\\user\\anaconda3\\Lib\\site-packages\\sklearn\\cluster\\_kmeans.py:1382: UserWarning: KMeans is known to have a memory leak on Windows with MKL, when there are less chunks than available threads. You can avoid it by setting the environment variable OMP_NUM_THREADS=1.\n",
      "  warnings.warn(\n"
     ]
    },
    {
     "data": {
      "text/plain": [
       "array([0, 0, 0, 0, 0, 0, 0, 0, 0, 0, 0, 0, 0, 0, 0, 0, 0, 0, 0, 0, 0, 0,\n",
       "       0, 0, 0, 0, 0, 0, 0, 0, 0, 0, 0, 0, 0, 0, 0, 0, 0, 0, 0, 0, 0, 0,\n",
       "       0, 0, 0, 0, 0, 0, 2, 2, 2, 2, 2, 2, 2, 2, 2, 2, 2, 2, 2, 2, 2, 2,\n",
       "       2, 2, 2, 2, 1, 2, 2, 2, 2, 2, 2, 1, 2, 2, 2, 2, 2, 2, 2, 2, 2, 2,\n",
       "       2, 2, 2, 2, 2, 2, 2, 2, 2, 2, 2, 2, 1, 1, 1, 1, 1, 1, 2, 1, 1, 1,\n",
       "       1, 1, 1, 1, 1, 1, 1, 1, 1, 2, 1, 1, 1, 1, 1, 1, 1, 1, 1, 1, 1, 1,\n",
       "       1, 2, 2, 1, 1, 1, 1, 1, 1, 1, 1, 1, 1, 1, 1, 1, 1, 1])"
      ]
     },
     "execution_count": 28,
     "metadata": {},
     "output_type": "execute_result"
    }
   ],
   "source": [
    "km=KMeans(n_clusters=3)\n",
    "prediction=km.fit_predict(scale_df[['petal length (cm)','petal width (cm)']])\n",
    "prediction"
   ]
  },
  {
   "cell_type": "code",
   "execution_count": 29,
   "id": "25d3a29e-55e4-45e3-8a38-555326e8d904",
   "metadata": {},
   "outputs": [
    {
     "data": {
      "text/html": [
       "<div>\n",
       "<style scoped>\n",
       "    .dataframe tbody tr th:only-of-type {\n",
       "        vertical-align: middle;\n",
       "    }\n",
       "\n",
       "    .dataframe tbody tr th {\n",
       "        vertical-align: top;\n",
       "    }\n",
       "\n",
       "    .dataframe thead th {\n",
       "        text-align: right;\n",
       "    }\n",
       "</style>\n",
       "<table border=\"1\" class=\"dataframe\">\n",
       "  <thead>\n",
       "    <tr style=\"text-align: right;\">\n",
       "      <th></th>\n",
       "      <th>petal length (cm)</th>\n",
       "      <th>petal width (cm)</th>\n",
       "      <th>cluster</th>\n",
       "    </tr>\n",
       "  </thead>\n",
       "  <tbody>\n",
       "    <tr>\n",
       "      <th>0</th>\n",
       "      <td>0.041667</td>\n",
       "      <td>0.067797</td>\n",
       "      <td>0</td>\n",
       "    </tr>\n",
       "    <tr>\n",
       "      <th>1</th>\n",
       "      <td>0.041667</td>\n",
       "      <td>0.067797</td>\n",
       "      <td>0</td>\n",
       "    </tr>\n",
       "    <tr>\n",
       "      <th>2</th>\n",
       "      <td>0.041667</td>\n",
       "      <td>0.050847</td>\n",
       "      <td>0</td>\n",
       "    </tr>\n",
       "    <tr>\n",
       "      <th>3</th>\n",
       "      <td>0.041667</td>\n",
       "      <td>0.084746</td>\n",
       "      <td>0</td>\n",
       "    </tr>\n",
       "    <tr>\n",
       "      <th>4</th>\n",
       "      <td>0.041667</td>\n",
       "      <td>0.067797</td>\n",
       "      <td>0</td>\n",
       "    </tr>\n",
       "    <tr>\n",
       "      <th>...</th>\n",
       "      <td>...</td>\n",
       "      <td>...</td>\n",
       "      <td>...</td>\n",
       "    </tr>\n",
       "    <tr>\n",
       "      <th>145</th>\n",
       "      <td>0.916667</td>\n",
       "      <td>0.711864</td>\n",
       "      <td>1</td>\n",
       "    </tr>\n",
       "    <tr>\n",
       "      <th>146</th>\n",
       "      <td>0.750000</td>\n",
       "      <td>0.677966</td>\n",
       "      <td>1</td>\n",
       "    </tr>\n",
       "    <tr>\n",
       "      <th>147</th>\n",
       "      <td>0.791667</td>\n",
       "      <td>0.711864</td>\n",
       "      <td>1</td>\n",
       "    </tr>\n",
       "    <tr>\n",
       "      <th>148</th>\n",
       "      <td>0.916667</td>\n",
       "      <td>0.745763</td>\n",
       "      <td>1</td>\n",
       "    </tr>\n",
       "    <tr>\n",
       "      <th>149</th>\n",
       "      <td>0.708333</td>\n",
       "      <td>0.694915</td>\n",
       "      <td>1</td>\n",
       "    </tr>\n",
       "  </tbody>\n",
       "</table>\n",
       "<p>150 rows × 3 columns</p>\n",
       "</div>"
      ],
      "text/plain": [
       "     petal length (cm)  petal width (cm)  cluster\n",
       "0             0.041667          0.067797        0\n",
       "1             0.041667          0.067797        0\n",
       "2             0.041667          0.050847        0\n",
       "3             0.041667          0.084746        0\n",
       "4             0.041667          0.067797        0\n",
       "..                 ...               ...      ...\n",
       "145           0.916667          0.711864        1\n",
       "146           0.750000          0.677966        1\n",
       "147           0.791667          0.711864        1\n",
       "148           0.916667          0.745763        1\n",
       "149           0.708333          0.694915        1\n",
       "\n",
       "[150 rows x 3 columns]"
      ]
     },
     "execution_count": 29,
     "metadata": {},
     "output_type": "execute_result"
    }
   ],
   "source": [
    "scale_df['cluster']=prediction\n",
    "scale_df"
   ]
  },
  {
   "cell_type": "code",
   "execution_count": 30,
   "id": "3024e5bd-945b-4ec6-99e4-65f5bcdc9aba",
   "metadata": {},
   "outputs": [
    {
     "data": {
      "text/plain": [
       "<matplotlib.collections.PathCollection at 0x25cfe60c490>"
      ]
     },
     "execution_count": 30,
     "metadata": {},
     "output_type": "execute_result"
    },
    {
     "data": {
      "image/png": "[encoded data removed]",
      "text/plain": [
       "<Figure size 640x480 with 1 Axes>"
      ]
     },
     "metadata": {},
     "output_type": "display_data"
    }
   ],
   "source": [
    "df1=scale_df[scale_df.cluster==0]\n",
    "df2=scale_df[scale_df.cluster==1]\n",
    "df3=scale_df[scale_df.cluster==2]\n",
    "plt.scatter(df1['petal length (cm)'],df1['petal width (cm)'],color='black')\n",
    "plt.scatter(df2['petal length (cm)'],df2['petal width (cm)'],color='green')\n",
    "plt.scatter(df3['petal length (cm)'],df3['petal width (cm)'],color='pink')"
   ]
  },
  {
   "cell_type": "code",
   "execution_count": 31,
   "id": "662d330c-ff21-4002-a2ae-66c6acfbe792",
   "metadata": {},
   "outputs": [
    {
     "data": {
      "text/plain": [
       "array([[0.06083333, 0.07830508],\n",
       "       [0.81510417, 0.7740113 ],\n",
       "       [0.51041667, 0.55867014]])"
      ]
     },
     "execution_count": 31,
     "metadata": {},
     "output_type": "execute_result"
    }
   ],
   "source": [
    "km.cluster_centers_"
   ]
  },
  {
   "cell_type": "code",
   "execution_count": null,
   "id": "2077ea0c-5e78-4475-95cc-83f9ec927f6b",
   "metadata": {},
   "outputs": [],
   "source": []
  }
 ],
 "metadata": {
  "kernelspec": {
   "display_name": "Python 3 (ipykernel)",
   "language": "python",
   "name": "python3"
  },
  "language_info": {
   "codemirror_mode": {
    "name": "ipython",
    "version": 3
   },
   "file_extension": ".py",
   "mimetype": "text/x-python",
   "name": "python",
   "nbconvert_exporter": "python",
   "pygments_lexer": "ipython3",
   "version": "3.11.7"
  }
 },
 "nbformat": 4,
 "nbformat_minor": 5
}
